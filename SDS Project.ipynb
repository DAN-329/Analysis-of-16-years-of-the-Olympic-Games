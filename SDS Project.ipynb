{
 "cells": [
  {
   "cell_type": "code",
   "execution_count": 1,
   "metadata": {},
   "outputs": [],
   "source": [
    "# Necessary Imports\n",
    "import pandas as pd\n",
    "import numpy as np\n",
    "import matplotlib.pyplot as plt\n",
    "import seaborn as sns\n",
    "import math\n",
    "import scipy.stats as st"
   ]
  },
  {
   "cell_type": "code",
   "execution_count": 2,
   "metadata": {},
   "outputs": [],
   "source": [
    "data=pd.read_csv('athlete_events.csv');"
   ]
  },
  {
   "cell_type": "code",
   "execution_count": 3,
   "metadata": {},
   "outputs": [],
   "source": [
    "# Dropping Unnecessary Columns\n",
    "del data[\"NOC\"]\n",
    "del data[\"Games\"]\n",
    "del data[\"Event\"]\n",
    "del data[\"ID\"]"
   ]
  },
  {
   "cell_type": "code",
   "execution_count": 4,
   "metadata": {},
   "outputs": [],
   "source": [
    "# Taking only necessary years into account\n",
    "data.drop(data[data['Year']<2000].index,inplace=True)"
   ]
  },
  {
   "cell_type": "code",
   "execution_count": 5,
   "metadata": {
    "scrolled": true
   },
   "outputs": [
    {
     "data": {
      "text/plain": [
       "False"
      ]
     },
     "execution_count": 5,
     "metadata": {},
     "output_type": "execute_result"
    }
   ],
   "source": [
    "# To Check Whether columns have null values\n",
    "# False:- No Null values\n",
    "# True:- Null values present\n",
    "data['Name'].isnull().values.any()"
   ]
  },
  {
   "cell_type": "code",
   "execution_count": 6,
   "metadata": {},
   "outputs": [
    {
     "data": {
      "text/plain": [
       "False"
      ]
     },
     "execution_count": 6,
     "metadata": {},
     "output_type": "execute_result"
    }
   ],
   "source": [
    "data['Sex'].isnull().values.any()"
   ]
  },
  {
   "cell_type": "code",
   "execution_count": 7,
   "metadata": {},
   "outputs": [
    {
     "data": {
      "text/plain": [
       "True"
      ]
     },
     "execution_count": 7,
     "metadata": {},
     "output_type": "execute_result"
    }
   ],
   "source": [
    "data['Age'].isnull().values.any()"
   ]
  },
  {
   "cell_type": "code",
   "execution_count": 8,
   "metadata": {},
   "outputs": [
    {
     "data": {
      "text/plain": [
       "True"
      ]
     },
     "execution_count": 8,
     "metadata": {},
     "output_type": "execute_result"
    }
   ],
   "source": [
    "data['Height'].isnull().values.any()"
   ]
  },
  {
   "cell_type": "code",
   "execution_count": 9,
   "metadata": {},
   "outputs": [
    {
     "data": {
      "text/plain": [
       "True"
      ]
     },
     "execution_count": 9,
     "metadata": {},
     "output_type": "execute_result"
    }
   ],
   "source": [
    "data['Weight'].isnull().values.any()"
   ]
  },
  {
   "cell_type": "code",
   "execution_count": 10,
   "metadata": {},
   "outputs": [
    {
     "data": {
      "text/plain": [
       "False"
      ]
     },
     "execution_count": 10,
     "metadata": {},
     "output_type": "execute_result"
    }
   ],
   "source": [
    "data['Team'].isnull().values.any()"
   ]
  },
  {
   "cell_type": "code",
   "execution_count": 11,
   "metadata": {},
   "outputs": [
    {
     "data": {
      "text/plain": [
       "False"
      ]
     },
     "execution_count": 11,
     "metadata": {},
     "output_type": "execute_result"
    }
   ],
   "source": [
    "data['Year'].isnull().values.any()"
   ]
  },
  {
   "cell_type": "code",
   "execution_count": 12,
   "metadata": {},
   "outputs": [
    {
     "data": {
      "text/plain": [
       "False"
      ]
     },
     "execution_count": 12,
     "metadata": {},
     "output_type": "execute_result"
    }
   ],
   "source": [
    "data['Season'].isnull().values.any()"
   ]
  },
  {
   "cell_type": "code",
   "execution_count": 13,
   "metadata": {},
   "outputs": [
    {
     "data": {
      "text/plain": [
       "False"
      ]
     },
     "execution_count": 13,
     "metadata": {},
     "output_type": "execute_result"
    }
   ],
   "source": [
    "data['City'].isnull().values.any()"
   ]
  },
  {
   "cell_type": "code",
   "execution_count": 14,
   "metadata": {},
   "outputs": [
    {
     "data": {
      "text/plain": [
       "False"
      ]
     },
     "execution_count": 14,
     "metadata": {},
     "output_type": "execute_result"
    }
   ],
   "source": [
    "data['Sport'].isnull().values.any()"
   ]
  },
  {
   "cell_type": "code",
   "execution_count": 15,
   "metadata": {},
   "outputs": [
    {
     "data": {
      "text/plain": [
       "True"
      ]
     },
     "execution_count": 15,
     "metadata": {},
     "output_type": "execute_result"
    }
   ],
   "source": [
    "data['Medal'].isnull().values.any()"
   ]
  },
  {
   "cell_type": "code",
   "execution_count": 16,
   "metadata": {},
   "outputs": [],
   "source": [
    "# Replacing null values under Medal with a new category No Medal \n",
    "data[\"Medal\"].fillna(\"No Medal\",inplace=True)"
   ]
  },
  {
   "cell_type": "code",
   "execution_count": 17,
   "metadata": {
    "scrolled": true
   },
   "outputs": [],
   "source": [
    "# Dropping rows with remaining null values\n",
    "data=data.dropna()"
   ]
  },
  {
   "cell_type": "code",
   "execution_count": 18,
   "metadata": {},
   "outputs": [],
   "source": [
    "# Removing Repititions\n",
    "data=pd.DataFrame.drop_duplicates(data)"
   ]
  },
  {
   "cell_type": "code",
   "execution_count": 19,
   "metadata": {},
   "outputs": [],
   "source": [
    "# Sorting the rows in ascending based on Year\n",
    "data=data.sort_values(by='Year')"
   ]
  },
  {
   "cell_type": "code",
   "execution_count": 20,
   "metadata": {},
   "outputs": [
    {
     "data": {
      "text/html": [
       "<div>\n",
       "<style scoped>\n",
       "    .dataframe tbody tr th:only-of-type {\n",
       "        vertical-align: middle;\n",
       "    }\n",
       "\n",
       "    .dataframe tbody tr th {\n",
       "        vertical-align: top;\n",
       "    }\n",
       "\n",
       "    .dataframe thead th {\n",
       "        text-align: right;\n",
       "    }\n",
       "</style>\n",
       "<table border=\"1\" class=\"dataframe\">\n",
       "  <thead>\n",
       "    <tr style=\"text-align: right;\">\n",
       "      <th></th>\n",
       "      <th>Name</th>\n",
       "      <th>Sex</th>\n",
       "      <th>Age</th>\n",
       "      <th>Height</th>\n",
       "      <th>Weight</th>\n",
       "      <th>Team</th>\n",
       "      <th>Year</th>\n",
       "      <th>Season</th>\n",
       "      <th>City</th>\n",
       "      <th>Sport</th>\n",
       "      <th>Medal</th>\n",
       "    </tr>\n",
       "  </thead>\n",
       "  <tbody>\n",
       "    <tr>\n",
       "      <th>0</th>\n",
       "      <td>Miho Takeda</td>\n",
       "      <td>F</td>\n",
       "      <td>24.0</td>\n",
       "      <td>165.0</td>\n",
       "      <td>54.0</td>\n",
       "      <td>Japan</td>\n",
       "      <td>2000</td>\n",
       "      <td>Summer</td>\n",
       "      <td>Sydney</td>\n",
       "      <td>Synchronized Swimming</td>\n",
       "      <td>Silver</td>\n",
       "    </tr>\n",
       "    <tr>\n",
       "      <th>1</th>\n",
       "      <td>Andrea Colombo</td>\n",
       "      <td>M</td>\n",
       "      <td>26.0</td>\n",
       "      <td>190.0</td>\n",
       "      <td>75.0</td>\n",
       "      <td>Italy</td>\n",
       "      <td>2000</td>\n",
       "      <td>Summer</td>\n",
       "      <td>Sydney</td>\n",
       "      <td>Athletics</td>\n",
       "      <td>No Medal</td>\n",
       "    </tr>\n",
       "    <tr>\n",
       "      <th>2</th>\n",
       "      <td>Pedro E. Coln Hernndez</td>\n",
       "      <td>M</td>\n",
       "      <td>34.0</td>\n",
       "      <td>180.0</td>\n",
       "      <td>75.0</td>\n",
       "      <td>Puerto Rico</td>\n",
       "      <td>2000</td>\n",
       "      <td>Summer</td>\n",
       "      <td>Sydney</td>\n",
       "      <td>Sailing</td>\n",
       "      <td>No Medal</td>\n",
       "    </tr>\n",
       "    <tr>\n",
       "      <th>3</th>\n",
       "      <td>Oleksandr Stepanian</td>\n",
       "      <td>M</td>\n",
       "      <td>32.0</td>\n",
       "      <td>163.0</td>\n",
       "      <td>58.0</td>\n",
       "      <td>Ukraine</td>\n",
       "      <td>2000</td>\n",
       "      <td>Summer</td>\n",
       "      <td>Sydney</td>\n",
       "      <td>Wrestling</td>\n",
       "      <td>No Medal</td>\n",
       "    </tr>\n",
       "    <tr>\n",
       "      <th>4</th>\n",
       "      <td>Nguyn Th Xun Mai</td>\n",
       "      <td>F</td>\n",
       "      <td>21.0</td>\n",
       "      <td>165.0</td>\n",
       "      <td>57.0</td>\n",
       "      <td>Vietnam</td>\n",
       "      <td>2000</td>\n",
       "      <td>Summer</td>\n",
       "      <td>Sydney</td>\n",
       "      <td>Taekwondo</td>\n",
       "      <td>No Medal</td>\n",
       "    </tr>\n",
       "    <tr>\n",
       "      <th>...</th>\n",
       "      <td>...</td>\n",
       "      <td>...</td>\n",
       "      <td>...</td>\n",
       "      <td>...</td>\n",
       "      <td>...</td>\n",
       "      <td>...</td>\n",
       "      <td>...</td>\n",
       "      <td>...</td>\n",
       "      <td>...</td>\n",
       "      <td>...</td>\n",
       "      <td>...</td>\n",
       "    </tr>\n",
       "    <tr>\n",
       "      <th>66345</th>\n",
       "      <td>Kotuku Ngawati</td>\n",
       "      <td>F</td>\n",
       "      <td>22.0</td>\n",
       "      <td>165.0</td>\n",
       "      <td>60.0</td>\n",
       "      <td>Australia</td>\n",
       "      <td>2016</td>\n",
       "      <td>Summer</td>\n",
       "      <td>Rio de Janeiro</td>\n",
       "      <td>Swimming</td>\n",
       "      <td>No Medal</td>\n",
       "    </tr>\n",
       "    <tr>\n",
       "      <th>66346</th>\n",
       "      <td>Harold Correa</td>\n",
       "      <td>M</td>\n",
       "      <td>28.0</td>\n",
       "      <td>190.0</td>\n",
       "      <td>81.0</td>\n",
       "      <td>France</td>\n",
       "      <td>2016</td>\n",
       "      <td>Summer</td>\n",
       "      <td>Rio de Janeiro</td>\n",
       "      <td>Athletics</td>\n",
       "      <td>No Medal</td>\n",
       "    </tr>\n",
       "    <tr>\n",
       "      <th>66347</th>\n",
       "      <td>Esther Stam</td>\n",
       "      <td>F</td>\n",
       "      <td>29.0</td>\n",
       "      <td>174.0</td>\n",
       "      <td>75.0</td>\n",
       "      <td>Georgia</td>\n",
       "      <td>2016</td>\n",
       "      <td>Summer</td>\n",
       "      <td>Rio de Janeiro</td>\n",
       "      <td>Judo</td>\n",
       "      <td>No Medal</td>\n",
       "    </tr>\n",
       "    <tr>\n",
       "      <th>66348</th>\n",
       "      <td>Santisouk Inthavong</td>\n",
       "      <td>M</td>\n",
       "      <td>16.0</td>\n",
       "      <td>170.0</td>\n",
       "      <td>60.0</td>\n",
       "      <td>Laos</td>\n",
       "      <td>2016</td>\n",
       "      <td>Summer</td>\n",
       "      <td>Rio de Janeiro</td>\n",
       "      <td>Swimming</td>\n",
       "      <td>No Medal</td>\n",
       "    </tr>\n",
       "    <tr>\n",
       "      <th>66349</th>\n",
       "      <td>Natalie Rooney</td>\n",
       "      <td>F</td>\n",
       "      <td>28.0</td>\n",
       "      <td>181.0</td>\n",
       "      <td>95.0</td>\n",
       "      <td>New Zealand</td>\n",
       "      <td>2016</td>\n",
       "      <td>Summer</td>\n",
       "      <td>Rio de Janeiro</td>\n",
       "      <td>Shooting</td>\n",
       "      <td>Silver</td>\n",
       "    </tr>\n",
       "  </tbody>\n",
       "</table>\n",
       "<p>66350 rows × 11 columns</p>\n",
       "</div>"
      ],
      "text/plain": [
       "                         Name Sex   Age  Height  Weight         Team  Year  \\\n",
       "0                 Miho Takeda   F  24.0   165.0    54.0        Japan  2000   \n",
       "1              Andrea Colombo   M  26.0   190.0    75.0        Italy  2000   \n",
       "2      Pedro E. Coln Hernndez   M  34.0   180.0    75.0  Puerto Rico  2000   \n",
       "3         Oleksandr Stepanian   M  32.0   163.0    58.0      Ukraine  2000   \n",
       "4            Nguyn Th Xun Mai   F  21.0   165.0    57.0      Vietnam  2000   \n",
       "...                       ...  ..   ...     ...     ...          ...   ...   \n",
       "66345          Kotuku Ngawati   F  22.0   165.0    60.0    Australia  2016   \n",
       "66346           Harold Correa   M  28.0   190.0    81.0       France  2016   \n",
       "66347             Esther Stam   F  29.0   174.0    75.0      Georgia  2016   \n",
       "66348     Santisouk Inthavong   M  16.0   170.0    60.0         Laos  2016   \n",
       "66349          Natalie Rooney   F  28.0   181.0    95.0  New Zealand  2016   \n",
       "\n",
       "       Season            City                  Sport     Medal  \n",
       "0      Summer          Sydney  Synchronized Swimming    Silver  \n",
       "1      Summer          Sydney              Athletics  No Medal  \n",
       "2      Summer          Sydney                Sailing  No Medal  \n",
       "3      Summer          Sydney              Wrestling  No Medal  \n",
       "4      Summer          Sydney              Taekwondo  No Medal  \n",
       "...       ...             ...                    ...       ...  \n",
       "66345  Summer  Rio de Janeiro               Swimming  No Medal  \n",
       "66346  Summer  Rio de Janeiro              Athletics  No Medal  \n",
       "66347  Summer  Rio de Janeiro                   Judo  No Medal  \n",
       "66348  Summer  Rio de Janeiro               Swimming  No Medal  \n",
       "66349  Summer  Rio de Janeiro               Shooting    Silver  \n",
       "\n",
       "[66350 rows x 11 columns]"
      ]
     },
     "execution_count": 20,
     "metadata": {},
     "output_type": "execute_result"
    }
   ],
   "source": [
    "# Resetting Indexes after dropping rows\n",
    "data.reset_index(drop=True)"
   ]
  },
  {
   "cell_type": "code",
   "execution_count": 21,
   "metadata": {},
   "outputs": [],
   "source": [
    "# Writing the cleaned data into a new csv file\n",
    "data.to_csv(\"Cleaned.csv\",mode='w',index=False)"
   ]
  },
  {
   "cell_type": "code",
   "execution_count": 22,
   "metadata": {},
   "outputs": [],
   "source": [
    "# Graphing\n",
    "# Remove outliers numerical values using the graphs"
   ]
  },
  {
   "cell_type": "code",
   "execution_count": 23,
   "metadata": {},
   "outputs": [],
   "source": [
    "# Reading cleaned data from the csv file\n",
    "cleaned_data=pd.read_csv(\"Cleaned.csv\")"
   ]
  },
  {
   "cell_type": "code",
   "execution_count": 24,
   "metadata": {},
   "outputs": [],
   "source": [
    "# Dropping rows which have 'No Medal' in the Medal column\n",
    "cleaned_data=cleaned_data[~cleaned_data['Medal'].isin(['No Medal'])]"
   ]
  },
  {
   "cell_type": "code",
   "execution_count": 25,
   "metadata": {},
   "outputs": [
    {
     "data": {
      "text/html": [
       "<div>\n",
       "<style scoped>\n",
       "    .dataframe tbody tr th:only-of-type {\n",
       "        vertical-align: middle;\n",
       "    }\n",
       "\n",
       "    .dataframe tbody tr th {\n",
       "        vertical-align: top;\n",
       "    }\n",
       "\n",
       "    .dataframe thead th {\n",
       "        text-align: right;\n",
       "    }\n",
       "</style>\n",
       "<table border=\"1\" class=\"dataframe\">\n",
       "  <thead>\n",
       "    <tr style=\"text-align: right;\">\n",
       "      <th></th>\n",
       "      <th>Name</th>\n",
       "      <th>Sex</th>\n",
       "      <th>Age</th>\n",
       "      <th>Height</th>\n",
       "      <th>Weight</th>\n",
       "      <th>Team</th>\n",
       "      <th>Year</th>\n",
       "      <th>Season</th>\n",
       "      <th>City</th>\n",
       "      <th>Sport</th>\n",
       "      <th>Medal</th>\n",
       "    </tr>\n",
       "  </thead>\n",
       "  <tbody>\n",
       "    <tr>\n",
       "      <th>0</th>\n",
       "      <td>Miho Takeda</td>\n",
       "      <td>F</td>\n",
       "      <td>24.0</td>\n",
       "      <td>165.0</td>\n",
       "      <td>54.0</td>\n",
       "      <td>Japan</td>\n",
       "      <td>2000</td>\n",
       "      <td>Summer</td>\n",
       "      <td>Sydney</td>\n",
       "      <td>Synchronized Swimming</td>\n",
       "      <td>Silver</td>\n",
       "    </tr>\n",
       "    <tr>\n",
       "      <th>1</th>\n",
       "      <td>Harald Stenvaag</td>\n",
       "      <td>M</td>\n",
       "      <td>47.0</td>\n",
       "      <td>182.0</td>\n",
       "      <td>90.0</td>\n",
       "      <td>Norway</td>\n",
       "      <td>2000</td>\n",
       "      <td>Summer</td>\n",
       "      <td>Sydney</td>\n",
       "      <td>Shooting</td>\n",
       "      <td>Bronze</td>\n",
       "    </tr>\n",
       "    <tr>\n",
       "      <th>2</th>\n",
       "      <td>Adam David Commens</td>\n",
       "      <td>M</td>\n",
       "      <td>24.0</td>\n",
       "      <td>166.0</td>\n",
       "      <td>74.0</td>\n",
       "      <td>Australia</td>\n",
       "      <td>2000</td>\n",
       "      <td>Summer</td>\n",
       "      <td>Sydney</td>\n",
       "      <td>Hockey</td>\n",
       "      <td>Bronze</td>\n",
       "    </tr>\n",
       "    <tr>\n",
       "      <th>3</th>\n",
       "      <td>Christine Smith Collins</td>\n",
       "      <td>F</td>\n",
       "      <td>31.0</td>\n",
       "      <td>170.0</td>\n",
       "      <td>58.0</td>\n",
       "      <td>United States</td>\n",
       "      <td>2000</td>\n",
       "      <td>Summer</td>\n",
       "      <td>Sydney</td>\n",
       "      <td>Rowing</td>\n",
       "      <td>Bronze</td>\n",
       "    </tr>\n",
       "    <tr>\n",
       "      <th>4</th>\n",
       "      <td>Daniel James \"Danny\" Collins</td>\n",
       "      <td>M</td>\n",
       "      <td>29.0</td>\n",
       "      <td>190.0</td>\n",
       "      <td>100.0</td>\n",
       "      <td>Australia</td>\n",
       "      <td>2000</td>\n",
       "      <td>Summer</td>\n",
       "      <td>Sydney</td>\n",
       "      <td>Canoeing</td>\n",
       "      <td>Silver</td>\n",
       "    </tr>\n",
       "    <tr>\n",
       "      <th>...</th>\n",
       "      <td>...</td>\n",
       "      <td>...</td>\n",
       "      <td>...</td>\n",
       "      <td>...</td>\n",
       "      <td>...</td>\n",
       "      <td>...</td>\n",
       "      <td>...</td>\n",
       "      <td>...</td>\n",
       "      <td>...</td>\n",
       "      <td>...</td>\n",
       "      <td>...</td>\n",
       "    </tr>\n",
       "    <tr>\n",
       "      <th>11505</th>\n",
       "      <td>Timothey N'Guessan</td>\n",
       "      <td>M</td>\n",
       "      <td>23.0</td>\n",
       "      <td>186.0</td>\n",
       "      <td>105.0</td>\n",
       "      <td>France</td>\n",
       "      <td>2016</td>\n",
       "      <td>Summer</td>\n",
       "      <td>Rio de Janeiro</td>\n",
       "      <td>Handball</td>\n",
       "      <td>Silver</td>\n",
       "    </tr>\n",
       "    <tr>\n",
       "      <th>11506</th>\n",
       "      <td>Marco Innocenti</td>\n",
       "      <td>M</td>\n",
       "      <td>37.0</td>\n",
       "      <td>170.0</td>\n",
       "      <td>97.0</td>\n",
       "      <td>Italy</td>\n",
       "      <td>2016</td>\n",
       "      <td>Summer</td>\n",
       "      <td>Rio de Janeiro</td>\n",
       "      <td>Shooting</td>\n",
       "      <td>Silver</td>\n",
       "    </tr>\n",
       "    <tr>\n",
       "      <th>11507</th>\n",
       "      <td>Mariya Stadnik</td>\n",
       "      <td>F</td>\n",
       "      <td>28.0</td>\n",
       "      <td>157.0</td>\n",
       "      <td>48.0</td>\n",
       "      <td>Azerbaijan</td>\n",
       "      <td>2016</td>\n",
       "      <td>Summer</td>\n",
       "      <td>Rio de Janeiro</td>\n",
       "      <td>Wrestling</td>\n",
       "      <td>Silver</td>\n",
       "    </tr>\n",
       "    <tr>\n",
       "      <th>11508</th>\n",
       "      <td>Yukiko Inui</td>\n",
       "      <td>F</td>\n",
       "      <td>25.0</td>\n",
       "      <td>169.0</td>\n",
       "      <td>55.0</td>\n",
       "      <td>Japan</td>\n",
       "      <td>2016</td>\n",
       "      <td>Summer</td>\n",
       "      <td>Rio de Janeiro</td>\n",
       "      <td>Synchronized Swimming</td>\n",
       "      <td>Bronze</td>\n",
       "    </tr>\n",
       "    <tr>\n",
       "      <th>11509</th>\n",
       "      <td>Natalie Rooney</td>\n",
       "      <td>F</td>\n",
       "      <td>28.0</td>\n",
       "      <td>181.0</td>\n",
       "      <td>95.0</td>\n",
       "      <td>New Zealand</td>\n",
       "      <td>2016</td>\n",
       "      <td>Summer</td>\n",
       "      <td>Rio de Janeiro</td>\n",
       "      <td>Shooting</td>\n",
       "      <td>Silver</td>\n",
       "    </tr>\n",
       "  </tbody>\n",
       "</table>\n",
       "<p>11510 rows × 11 columns</p>\n",
       "</div>"
      ],
      "text/plain": [
       "                               Name Sex   Age  Height  Weight           Team  \\\n",
       "0                       Miho Takeda   F  24.0   165.0    54.0          Japan   \n",
       "1                   Harald Stenvaag   M  47.0   182.0    90.0         Norway   \n",
       "2                Adam David Commens   M  24.0   166.0    74.0      Australia   \n",
       "3           Christine Smith Collins   F  31.0   170.0    58.0  United States   \n",
       "4      Daniel James \"Danny\" Collins   M  29.0   190.0   100.0      Australia   \n",
       "...                             ...  ..   ...     ...     ...            ...   \n",
       "11505            Timothey N'Guessan   M  23.0   186.0   105.0         France   \n",
       "11506               Marco Innocenti   M  37.0   170.0    97.0          Italy   \n",
       "11507                Mariya Stadnik   F  28.0   157.0    48.0     Azerbaijan   \n",
       "11508                   Yukiko Inui   F  25.0   169.0    55.0          Japan   \n",
       "11509                Natalie Rooney   F  28.0   181.0    95.0    New Zealand   \n",
       "\n",
       "       Year  Season            City                  Sport   Medal  \n",
       "0      2000  Summer          Sydney  Synchronized Swimming  Silver  \n",
       "1      2000  Summer          Sydney               Shooting  Bronze  \n",
       "2      2000  Summer          Sydney                 Hockey  Bronze  \n",
       "3      2000  Summer          Sydney                 Rowing  Bronze  \n",
       "4      2000  Summer          Sydney               Canoeing  Silver  \n",
       "...     ...     ...             ...                    ...     ...  \n",
       "11505  2016  Summer  Rio de Janeiro               Handball  Silver  \n",
       "11506  2016  Summer  Rio de Janeiro               Shooting  Silver  \n",
       "11507  2016  Summer  Rio de Janeiro              Wrestling  Silver  \n",
       "11508  2016  Summer  Rio de Janeiro  Synchronized Swimming  Bronze  \n",
       "11509  2016  Summer  Rio de Janeiro               Shooting  Silver  \n",
       "\n",
       "[11510 rows x 11 columns]"
      ]
     },
     "execution_count": 25,
     "metadata": {},
     "output_type": "execute_result"
    }
   ],
   "source": [
    "# Resetting the indices\n",
    "cleaned_data.reset_index(drop=True)"
   ]
  },
  {
   "cell_type": "code",
   "execution_count": 26,
   "metadata": {},
   "outputs": [],
   "source": [
    "# Writing the cleaned data into a csv file\n",
    "cleaned_data.to_csv(\"bar_data.csv\",mode='w',index=False)"
   ]
  },
  {
   "cell_type": "code",
   "execution_count": 27,
   "metadata": {},
   "outputs": [
    {
     "name": "stdout",
     "output_type": "stream",
     "text": [
      "                Team   Medal\n",
      "0              Japan  Silver\n",
      "1             Norway  Bronze\n",
      "2          Australia  Bronze\n",
      "3      United States  Bronze\n",
      "4          Australia  Silver\n",
      "...              ...     ...\n",
      "11505         France  Silver\n",
      "11506          Italy  Silver\n",
      "11507     Azerbaijan  Silver\n",
      "11508          Japan  Bronze\n",
      "11509    New Zealand  Silver\n",
      "\n",
      "[11510 rows x 2 columns]\n"
     ]
    }
   ],
   "source": [
    "# Reading only 'Team' and 'Medal' columns and printing the data \n",
    "df_bar=pd.read_csv(\"bar_data.csv\",usecols=['Team','Medal'])\n",
    "df_bar_1=pd.read_csv(\"bar_data.csv\",usecols=['Team','Medal'])\n",
    "print(df_bar)"
   ]
  },
  {
   "cell_type": "code",
   "execution_count": 28,
   "metadata": {},
   "outputs": [],
   "source": [
    "# Finding frequency of each team\n",
    "df_bar1=pd.DataFrame(df_bar_1.Team.value_counts())"
   ]
  },
  {
   "cell_type": "code",
   "execution_count": 29,
   "metadata": {},
   "outputs": [
    {
     "name": "stdout",
     "output_type": "stream",
     "text": [
      "['United States', 'Russia', 'Germany', 'Australia', 'China', 'Canada', 'Great Britain', 'France', 'Italy', 'Netherlands']\n"
     ]
    }
   ],
   "source": [
    "# Sorting the values in descending order based on the number of times a team has won medals\n",
    "# Selecting only the top 10 Teams and converting it into a list\n",
    "df_bar1.sort_values(by='Team',ascending=False)\n",
    "df_bar1=df_bar1.head(10)\n",
    "idx=df_bar1.index\n",
    "countries=idx.tolist()\n",
    "print(countries)"
   ]
  },
  {
   "cell_type": "code",
   "execution_count": 30,
   "metadata": {
    "scrolled": true
   },
   "outputs": [
    {
     "name": "stdout",
     "output_type": "stream",
     "text": [
      "                Team   Medal\n",
      "2          Australia  Bronze\n",
      "3      United States  Bronze\n",
      "4          Australia  Silver\n",
      "8            Germany  Bronze\n",
      "10           Germany    Gold\n",
      "...              ...     ...\n",
      "11500          Italy  Silver\n",
      "11503        Germany  Bronze\n",
      "11504         France  Silver\n",
      "11505         France  Silver\n",
      "11506          Italy  Silver\n",
      "\n",
      "[6355 rows x 2 columns]\n"
     ]
    },
    {
     "data": {
      "text/html": [
       "<div>\n",
       "<style scoped>\n",
       "    .dataframe tbody tr th:only-of-type {\n",
       "        vertical-align: middle;\n",
       "    }\n",
       "\n",
       "    .dataframe tbody tr th {\n",
       "        vertical-align: top;\n",
       "    }\n",
       "\n",
       "    .dataframe thead th {\n",
       "        text-align: right;\n",
       "    }\n",
       "</style>\n",
       "<table border=\"1\" class=\"dataframe\">\n",
       "  <thead>\n",
       "    <tr style=\"text-align: right;\">\n",
       "      <th></th>\n",
       "      <th>Team</th>\n",
       "      <th>Medal</th>\n",
       "    </tr>\n",
       "  </thead>\n",
       "  <tbody>\n",
       "    <tr>\n",
       "      <th>0</th>\n",
       "      <td>Australia</td>\n",
       "      <td>Bronze</td>\n",
       "    </tr>\n",
       "    <tr>\n",
       "      <th>1</th>\n",
       "      <td>United States</td>\n",
       "      <td>Bronze</td>\n",
       "    </tr>\n",
       "    <tr>\n",
       "      <th>2</th>\n",
       "      <td>Australia</td>\n",
       "      <td>Silver</td>\n",
       "    </tr>\n",
       "    <tr>\n",
       "      <th>3</th>\n",
       "      <td>Germany</td>\n",
       "      <td>Bronze</td>\n",
       "    </tr>\n",
       "    <tr>\n",
       "      <th>4</th>\n",
       "      <td>Germany</td>\n",
       "      <td>Gold</td>\n",
       "    </tr>\n",
       "    <tr>\n",
       "      <th>...</th>\n",
       "      <td>...</td>\n",
       "      <td>...</td>\n",
       "    </tr>\n",
       "    <tr>\n",
       "      <th>6350</th>\n",
       "      <td>Italy</td>\n",
       "      <td>Silver</td>\n",
       "    </tr>\n",
       "    <tr>\n",
       "      <th>6351</th>\n",
       "      <td>Germany</td>\n",
       "      <td>Bronze</td>\n",
       "    </tr>\n",
       "    <tr>\n",
       "      <th>6352</th>\n",
       "      <td>France</td>\n",
       "      <td>Silver</td>\n",
       "    </tr>\n",
       "    <tr>\n",
       "      <th>6353</th>\n",
       "      <td>France</td>\n",
       "      <td>Silver</td>\n",
       "    </tr>\n",
       "    <tr>\n",
       "      <th>6354</th>\n",
       "      <td>Italy</td>\n",
       "      <td>Silver</td>\n",
       "    </tr>\n",
       "  </tbody>\n",
       "</table>\n",
       "<p>6355 rows × 2 columns</p>\n",
       "</div>"
      ],
      "text/plain": [
       "               Team   Medal\n",
       "0         Australia  Bronze\n",
       "1     United States  Bronze\n",
       "2         Australia  Silver\n",
       "3           Germany  Bronze\n",
       "4           Germany    Gold\n",
       "...             ...     ...\n",
       "6350          Italy  Silver\n",
       "6351        Germany  Bronze\n",
       "6352         France  Silver\n",
       "6353         France  Silver\n",
       "6354          Italy  Silver\n",
       "\n",
       "[6355 rows x 2 columns]"
      ]
     },
     "execution_count": 30,
     "metadata": {},
     "output_type": "execute_result"
    }
   ],
   "source": [
    "# Refining the dataframe so that it contains only the top 10 teams' details\n",
    "# Resetting the indices\n",
    "df_bar=df_bar[df_bar['Team'].isin(countries)]\n",
    "print(df_bar)\n",
    "df_bar.reset_index(drop=True)"
   ]
  },
  {
   "cell_type": "code",
   "execution_count": 31,
   "metadata": {},
   "outputs": [
    {
     "data": {
      "text/html": [
       "<div>\n",
       "<style scoped>\n",
       "    .dataframe tbody tr th:only-of-type {\n",
       "        vertical-align: middle;\n",
       "    }\n",
       "\n",
       "    .dataframe tbody tr th {\n",
       "        vertical-align: top;\n",
       "    }\n",
       "\n",
       "    .dataframe thead th {\n",
       "        text-align: right;\n",
       "    }\n",
       "</style>\n",
       "<table border=\"1\" class=\"dataframe\">\n",
       "  <thead>\n",
       "    <tr style=\"text-align: right;\">\n",
       "      <th></th>\n",
       "      <th>Medal</th>\n",
       "    </tr>\n",
       "  </thead>\n",
       "  <tbody>\n",
       "    <tr>\n",
       "      <th>Gold</th>\n",
       "      <td>2225</td>\n",
       "    </tr>\n",
       "    <tr>\n",
       "      <th>Silver</th>\n",
       "      <td>2067</td>\n",
       "    </tr>\n",
       "    <tr>\n",
       "      <th>Bronze</th>\n",
       "      <td>2063</td>\n",
       "    </tr>\n",
       "  </tbody>\n",
       "</table>\n",
       "</div>"
      ],
      "text/plain": [
       "        Medal\n",
       "Gold     2225\n",
       "Silver   2067\n",
       "Bronze   2063"
      ]
     },
     "execution_count": 31,
     "metadata": {},
     "output_type": "execute_result"
    }
   ],
   "source": [
    "# Counting the total number of Medals\n",
    "pd.DataFrame(df_bar.Medal.value_counts())"
   ]
  },
  {
   "cell_type": "code",
   "execution_count": 32,
   "metadata": {},
   "outputs": [
    {
     "name": "stdout",
     "output_type": "stream",
     "text": [
      "['Australia', 'United States', 'Germany', 'Canada', 'Russia', 'France', 'Great Britain', 'China', 'Italy', 'Netherlands']\n"
     ]
    }
   ],
   "source": [
    "# List of x-co-ordinates\n",
    "team=df_bar.Team.unique().tolist()\n",
    "print(team)"
   ]
  },
  {
   "cell_type": "code",
   "execution_count": 33,
   "metadata": {},
   "outputs": [
    {
     "data": {
      "image/png": "[encoded data removed]",
      "text/plain": [
       "<Figure size 432x288 with 1 Axes>"
      ]
     },
     "metadata": {
      "needs_background": "light"
     },
     "output_type": "display_data"
    }
   ],
   "source": [
    "# Plotting the bar graph\n",
    "# plt.bar(x, height, label, color, edgecolor)\n",
    "p1=plt.bar(team,height=df_bar[df_bar.Medal==\"Bronze\"].Team.value_counts().reindex(team),label='Bronze',color='#CD7F32',edgecolor='black')\n",
    "p2=plt.bar(team,height=df_bar[df_bar.Medal==\"Silver\"].Team.value_counts().reindex(team),label='Silver',color='silver',edgecolor='black',bottom=df_bar[df_bar.Medal==\"Bronze\"].Team.value_counts().reindex(team))\n",
    "p3=plt.bar(team,height=df_bar[df_bar.Medal==\"Gold\"].Team.value_counts().reindex(team),label='Gold',color='gold',edgecolor='black',bottom=df_bar[df_bar.Medal==\"Bronze\"].Team.value_counts().reindex(team)+df_bar[df_bar.Medal==\"Silver\"].Team.value_counts().reindex(team))\n",
    "plt.xticks(team,rotation='vertical')\n",
    "plt.ylabel(\"Medals\",fontsize='12')\n",
    "plt.xlabel(\"Countries\",fontsize='12')\n",
    "plt.legend(loc=\"upper right\")\n",
    "plt.title(\"Top 10 Countries Statistics\",fontsize='15')\n",
    "plt.show()"
   ]
  },
  {
   "cell_type": "code",
   "execution_count": 34,
   "metadata": {},
   "outputs": [
    {
     "data": {
      "image/png": "[encoded data removed]",
      "text/plain": [
       "<Figure size 432x288 with 1 Axes>"
      ]
     },
     "metadata": {
      "needs_background": "light"
     },
     "output_type": "display_data"
    }
   ],
   "source": [
    "plt.title(\"Histogram on Height (cm)\",fontsize='15')\n",
    "plt.hist(data.Height,20,color=\"lightgreen\",edgecolor=\"black\")\n",
    "plt.xlabel(\"Height\")\n",
    "plt.ylabel(\"Frequency\")\n",
    "plt.show()"
   ]
  },
  {
   "cell_type": "code",
   "execution_count": 35,
   "metadata": {},
   "outputs": [
    {
     "data": {
      "image/png": "[encoded data removed]",
      "text/plain": [
       "<Figure size 432x288 with 1 Axes>"
      ]
     },
     "metadata": {
      "needs_background": "light"
     },
     "output_type": "display_data"
    }
   ],
   "source": [
    "plt.title(\"Histogram on Weight (kg)\",fontsize='15')\n",
    "plt.hist(data.Weight,20,color=\"grey\",edgecolor=\"black\")\n",
    "plt.xlabel(\"Weight\")\n",
    "plt.ylabel(\"Frequency\")\n",
    "plt.show()"
   ]
  },
  {
   "cell_type": "code",
   "execution_count": 36,
   "metadata": {},
   "outputs": [
    {
     "data": {
      "image/png": "[encoded data removed]",
      "text/plain": [
       "<Figure size 432x288 with 1 Axes>"
      ]
     },
     "metadata": {
      "needs_background": "light"
     },
     "output_type": "display_data"
    }
   ],
   "source": [
    "plt.title(\"Histogram on Age (years)\",fontsize='15')\n",
    "plt.hist(data.Age,20,color=\"purple\",edgecolor=\"black\")\n",
    "plt.xlabel(\"Age\")\n",
    "plt.ylabel(\"Frequency\")\n",
    "plt.show()"
   ]
  },
  {
   "cell_type": "code",
   "execution_count": 37,
   "metadata": {},
   "outputs": [
    {
     "data": {
      "text/plain": [
       "<matplotlib.axes._subplots.AxesSubplot at 0x2ab24c18760>"
      ]
     },
     "execution_count": 37,
     "metadata": {},
     "output_type": "execute_result"
    },
    {
     "data": {
      "image/png": "[encoded data removed]",
      "text/plain": [
       "<Figure size 432x288 with 1 Axes>"
      ]
     },
     "metadata": {
      "needs_background": "light"
     },
     "output_type": "display_data"
    }
   ],
   "source": [
    "plt.title(\"Box Plot on Age\",fontsize='15')\n",
    "sns.boxplot(x='Sex',y='Age',data=data)"
   ]
  },
  {
   "cell_type": "code",
   "execution_count": 38,
   "metadata": {},
   "outputs": [
    {
     "data": {
      "text/plain": [
       "<matplotlib.axes._subplots.AxesSubplot at 0x2ab24c4b400>"
      ]
     },
     "execution_count": 38,
     "metadata": {},
     "output_type": "execute_result"
    },
    {
     "data": {
      "image/png": "[encoded data removed]",
      "text/plain": [
       "<Figure size 432x288 with 1 Axes>"
      ]
     },
     "metadata": {
      "needs_background": "light"
     },
     "output_type": "display_data"
    }
   ],
   "source": [
    "plt.title(\"Box Plot on Height\",fontsize='15')\n",
    "sns.boxplot(x='Sex',y='Height',data=data)"
   ]
  },
  {
   "cell_type": "code",
   "execution_count": 39,
   "metadata": {},
   "outputs": [
    {
     "data": {
      "text/plain": [
       "<matplotlib.axes._subplots.AxesSubplot at 0x2ab24ea0df0>"
      ]
     },
     "execution_count": 39,
     "metadata": {},
     "output_type": "execute_result"
    },
    {
     "data": {
      "image/png": "[encoded data removed]",
      "text/plain": [
       "<Figure size 432x288 with 1 Axes>"
      ]
     },
     "metadata": {
      "needs_background": "light"
     },
     "output_type": "display_data"
    }
   ],
   "source": [
    "plt.title(\"Box Plot on Weight\",fontsize='15')\n",
    "sns.boxplot(x='Sex',y='Weight',data=data)"
   ]
  },
  {
   "cell_type": "code",
   "execution_count": 40,
   "metadata": {},
   "outputs": [],
   "source": [
    "# Filtering unwanted outliers the in the numerical data i.e. Age,Height and Weight.\n",
    "# Removing unwanted outliers for Age \n",
    "index=data[(data['Age']>=70)|(data['Age']<=15)].index\n",
    "data.drop(index,inplace=True)"
   ]
  },
  {
   "cell_type": "code",
   "execution_count": 41,
   "metadata": {},
   "outputs": [],
   "source": [
    "# Removing unwanted outliers for Height\n",
    "index=data[(data['Height']>=240)|(data['Height']<=120)].index\n",
    "data.drop(index,inplace=True)"
   ]
  },
  {
   "cell_type": "code",
   "execution_count": 42,
   "metadata": {},
   "outputs": [],
   "source": [
    "# Removing unwanted outliers for Weight\n",
    "index=data[(data['Weight']>=180)|(data['Weight']<=25)].index\n",
    "data.drop(index,inplace=True)"
   ]
  },
  {
   "cell_type": "code",
   "execution_count": 43,
   "metadata": {},
   "outputs": [
    {
     "name": "stdout",
     "output_type": "stream",
     "text": [
      "Age\n",
      "Mean: 26.15 years\n",
      "Variance: 28.43 years\n"
     ]
    }
   ],
   "source": [
    "# Mean and Variance for all the numberical columns i.e. Age,Height,Weight\n",
    "# Column Age\n",
    "print(\"Age\")\n",
    "print(\"Mean:\",round(data['Age'].mean(),2),\"years\")\n",
    "print(\"Variance:\",round(data['Age'].var(),2),\"years\")"
   ]
  },
  {
   "cell_type": "code",
   "execution_count": 44,
   "metadata": {},
   "outputs": [
    {
     "name": "stdout",
     "output_type": "stream",
     "text": [
      "Height\n",
      "Mean: 176.72 cm\n",
      "Variance: 117.64 cm\n"
     ]
    }
   ],
   "source": [
    "# Column Height\n",
    "print(\"Height\")\n",
    "print(\"Mean:\",round(data['Height'].mean(),2),\"cm\")\n",
    "print(\"Variance:\",round(data['Height'].var(),2),\"cm\")"
   ]
  },
  {
   "cell_type": "code",
   "execution_count": 45,
   "metadata": {},
   "outputs": [
    {
     "name": "stdout",
     "output_type": "stream",
     "text": [
      "Weight\n",
      "Mean: 72.37 kg\n",
      "Variance: 244.41 kg\n"
     ]
    }
   ],
   "source": [
    "# Column Weight\n",
    "print(\"Weight\")\n",
    "print(\"Mean:\",round(data['Weight'].mean(),2),\"kg\")\n",
    "print(\"Variance:\",round(data['Weight'].var(),2),\"kg\")"
   ]
  },
  {
   "cell_type": "code",
   "execution_count": 46,
   "metadata": {},
   "outputs": [],
   "source": [
    "# Normalization and Standardization to make Mean=0 and Variance=1\n",
    "\n",
    "# Normalization is a technique often applied as part of data preparation for machine learning.\n",
    "# The goal of normalization is to change the values of numeric columns in the dataset to a common scale, without distorting \n",
    "# differences in the ranges of values.\n",
    "\n",
    "# The values within a normalized column will all be in the range of -3 to 3, thereby making the mean=0 and variance=1."
   ]
  },
  {
   "cell_type": "code",
   "execution_count": 47,
   "metadata": {},
   "outputs": [
    {
     "data": {
      "text/html": [
       "<div>\n",
       "<style scoped>\n",
       "    .dataframe tbody tr th:only-of-type {\n",
       "        vertical-align: middle;\n",
       "    }\n",
       "\n",
       "    .dataframe tbody tr th {\n",
       "        vertical-align: top;\n",
       "    }\n",
       "\n",
       "    .dataframe thead th {\n",
       "        text-align: right;\n",
       "    }\n",
       "</style>\n",
       "<table border=\"1\" class=\"dataframe\">\n",
       "  <thead>\n",
       "    <tr style=\"text-align: right;\">\n",
       "      <th></th>\n",
       "      <th>Age</th>\n",
       "      <th>Height</th>\n",
       "      <th>Weight</th>\n",
       "    </tr>\n",
       "  </thead>\n",
       "  <tbody>\n",
       "    <tr>\n",
       "      <th>235341</th>\n",
       "      <td>-0.402616</td>\n",
       "      <td>-1.080188</td>\n",
       "      <td>-1.174824</td>\n",
       "    </tr>\n",
       "    <tr>\n",
       "      <th>43647</th>\n",
       "      <td>-0.027540</td>\n",
       "      <td>1.224730</td>\n",
       "      <td>0.168427</td>\n",
       "    </tr>\n",
       "    <tr>\n",
       "      <th>43695</th>\n",
       "      <td>1.472763</td>\n",
       "      <td>0.302763</td>\n",
       "      <td>0.168427</td>\n",
       "    </tr>\n",
       "    <tr>\n",
       "      <th>228942</th>\n",
       "      <td>1.097687</td>\n",
       "      <td>-1.264582</td>\n",
       "      <td>-0.918967</td>\n",
       "    </tr>\n",
       "    <tr>\n",
       "      <th>170602</th>\n",
       "      <td>-0.965230</td>\n",
       "      <td>-1.080188</td>\n",
       "      <td>-0.982931</td>\n",
       "    </tr>\n",
       "    <tr>\n",
       "      <th>...</th>\n",
       "      <td>...</td>\n",
       "      <td>...</td>\n",
       "      <td>...</td>\n",
       "    </tr>\n",
       "    <tr>\n",
       "      <th>170484</th>\n",
       "      <td>-0.777692</td>\n",
       "      <td>-1.080188</td>\n",
       "      <td>-0.791038</td>\n",
       "    </tr>\n",
       "    <tr>\n",
       "      <th>44911</th>\n",
       "      <td>0.347536</td>\n",
       "      <td>1.224730</td>\n",
       "      <td>0.552214</td>\n",
       "    </tr>\n",
       "    <tr>\n",
       "      <th>227365</th>\n",
       "      <td>0.535073</td>\n",
       "      <td>-0.250418</td>\n",
       "      <td>0.168427</td>\n",
       "    </tr>\n",
       "    <tr>\n",
       "      <th>103223</th>\n",
       "      <td>-1.902919</td>\n",
       "      <td>-0.619205</td>\n",
       "      <td>-0.791038</td>\n",
       "    </tr>\n",
       "    <tr>\n",
       "      <th>204053</th>\n",
       "      <td>0.347536</td>\n",
       "      <td>0.394960</td>\n",
       "      <td>1.447715</td>\n",
       "    </tr>\n",
       "  </tbody>\n",
       "</table>\n",
       "<p>66060 rows × 3 columns</p>\n",
       "</div>"
      ],
      "text/plain": [
       "             Age    Height    Weight\n",
       "235341 -0.402616 -1.080188 -1.174824\n",
       "43647  -0.027540  1.224730  0.168427\n",
       "43695   1.472763  0.302763  0.168427\n",
       "228942  1.097687 -1.264582 -0.918967\n",
       "170602 -0.965230 -1.080188 -0.982931\n",
       "...          ...       ...       ...\n",
       "170484 -0.777692 -1.080188 -0.791038\n",
       "44911   0.347536  1.224730  0.552214\n",
       "227365  0.535073 -0.250418  0.168427\n",
       "103223 -1.902919 -0.619205 -0.791038\n",
       "204053  0.347536  0.394960  1.447715\n",
       "\n",
       "[66060 rows x 3 columns]"
      ]
     },
     "execution_count": 47,
     "metadata": {},
     "output_type": "execute_result"
    }
   ],
   "source": [
    "X_Data=data[['Age','Height','Weight']]\n",
    "normalized_Data=(X_Data-X_Data.mean())/X_Data.std()\n",
    "normalized_Data"
   ]
  },
  {
   "cell_type": "code",
   "execution_count": 48,
   "metadata": {},
   "outputs": [
    {
     "name": "stdout",
     "output_type": "stream",
     "text": [
      "Normalized Age\n",
      "Mean: 0\n",
      "Variance: 1\n"
     ]
    }
   ],
   "source": [
    "print(\"Normalized Age\")\n",
    "print(\"Mean:\",round(normalized_Data['Age'].mean()))\n",
    "print(\"Variance:\",round(normalized_Data['Age'].var()))"
   ]
  },
  {
   "cell_type": "code",
   "execution_count": 49,
   "metadata": {},
   "outputs": [
    {
     "name": "stdout",
     "output_type": "stream",
     "text": [
      "Normalized Height\n",
      "Mean: 0\n",
      "Variance: 1\n"
     ]
    }
   ],
   "source": [
    "print(\"Normalized Height\")\n",
    "print(\"Mean:\",round(normalized_Data['Height'].mean()))\n",
    "print(\"Variance:\",round(normalized_Data['Height'].var()))"
   ]
  },
  {
   "cell_type": "code",
   "execution_count": 50,
   "metadata": {},
   "outputs": [
    {
     "name": "stdout",
     "output_type": "stream",
     "text": [
      "Normalized Weight\n",
      "Mean: 0\n",
      "Variance: 1\n"
     ]
    }
   ],
   "source": [
    "print(\"Normalized Weight\")\n",
    "print(\"Mean:\",round(normalized_Data['Weight'].mean()))\n",
    "print(\"Variance:\",round(normalized_Data['Weight'].var()))"
   ]
  },
  {
   "cell_type": "code",
   "execution_count": 51,
   "metadata": {},
   "outputs": [],
   "source": [
    "# Using graphs to verify that the column Height,Weight,Age are normally distributed"
   ]
  },
  {
   "cell_type": "code",
   "execution_count": 52,
   "metadata": {},
   "outputs": [
    {
     "data": {
      "image/png": "[encoded data removed]",
      "text/plain": [
       "<Figure size 432x288 with 1 Axes>"
      ]
     },
     "metadata": {
      "needs_background": "light"
     },
     "output_type": "display_data"
    }
   ],
   "source": [
    "plt.title(\"Histogram on Height\",fontsize='15')\n",
    "plt.hist(normalized_Data.Height,20,color=\"lightgreen\",edgecolor=\"black\")\n",
    "plt.xlabel(\"Height\")\n",
    "plt.ylabel(\"Frequency\")\n",
    "plt.show()"
   ]
  },
  {
   "cell_type": "code",
   "execution_count": 53,
   "metadata": {},
   "outputs": [
    {
     "data": {
      "image/png": "[encoded data removed]",
      "text/plain": [
       "<Figure size 432x288 with 1 Axes>"
      ]
     },
     "metadata": {
      "needs_background": "light"
     },
     "output_type": "display_data"
    }
   ],
   "source": [
    "plt.title(\"Histogram on Weight\",fontsize='15')\n",
    "plt.hist(normalized_Data.Weight,20,color=\"grey\",edgecolor=\"black\")\n",
    "plt.xlabel(\"Weight\")\n",
    "plt.ylabel(\"Frequency\")\n",
    "plt.show()"
   ]
  },
  {
   "cell_type": "code",
   "execution_count": 54,
   "metadata": {},
   "outputs": [
    {
     "data": {
      "image/png": "[encoded data removed]",
      "text/plain": [
       "<Figure size 432x288 with 1 Axes>"
      ]
     },
     "metadata": {
      "needs_background": "light"
     },
     "output_type": "display_data"
    }
   ],
   "source": [
    "plt.title(\"Histogram on Age\",fontsize='15')\n",
    "plt.hist(normalized_Data.Age,20,color=\"purple\",edgecolor=\"black\")\n",
    "plt.xlabel(\"Age\")\n",
    "plt.ylabel(\"Frequency\")\n",
    "plt.show()"
   ]
  },
  {
   "cell_type": "code",
   "execution_count": 55,
   "metadata": {},
   "outputs": [
    {
     "name": "stdout",
     "output_type": "stream",
     "text": [
      "p-value: 0.016\n",
      "Aplha: 0.05\n",
      "Since p value is less than the significance level(0.05) we have sufficient evidence to reject null hypothesis\n"
     ]
    }
   ],
   "source": [
    "# Hypothesis testing\n",
    "# A Popular study shows that the average height of males is 7% greater than that of female\n",
    "# average height of females is 169.691812cm\n",
    "# Hence from the study mean male height should be greater than 181.6cm\n",
    "# Problem statement. To check whether the average height of Male participants entering into the olympic games is\n",
    "# greater than 181.6 cm.\n",
    "import math\n",
    "m=data.groupby('Sex').Height.mean()\n",
    "s=data.groupby('Sex').Height.std()\n",
    "# Ho:u<=181.6\n",
    "# H1:u>181.6 (Right-tailed)\n",
    "mean=m['M']\n",
    "sd=s['M']\n",
    "alpha=0.05\n",
    "n=data['Sex'].tolist().count('M')\n",
    "z=(mean-181.6)/(sd/math.sqrt(n))\n",
    "pValue=round(st.norm.sf(abs(z)),3)\n",
    "print(\"p-value:\",pValue)\n",
    "print(\"Aplha:\",alpha)\n",
    "print(\"Since p value is less than the significance level(0.05) we have sufficient evidence to reject null hypothesis\")\n",
    "# Since p value is less than the significance level(0.05) we have sufficient evidence to reject null hypothesis  "
   ]
  },
  {
   "cell_type": "code",
   "execution_count": 56,
   "metadata": {},
   "outputs": [],
   "source": [
    "# Correlation\n",
    "# To find the correlation between the height and weight of participants entering the olympics \n",
    "gym=pd.DataFrame({'height': data['Height'], 'weight': data['Weight']})"
   ]
  },
  {
   "cell_type": "code",
   "execution_count": 57,
   "metadata": {},
   "outputs": [
    {
     "data": {
      "text/plain": [
       "<matplotlib.axes._subplots.AxesSubplot at 0x2ab24ea4af0>"
      ]
     },
     "execution_count": 57,
     "metadata": {},
     "output_type": "execute_result"
    },
    {
     "data": {
      "image/png": "[encoded data removed]",
      "text/plain": [
       "<Figure size 432x288 with 1 Axes>"
      ]
     },
     "metadata": {
      "needs_background": "light"
     },
     "output_type": "display_data"
    }
   ],
   "source": [
    "# Positive Correlation demonstrated by the graph\n",
    "gym.plot.scatter(x = 'weight', y = 'height')\n",
    "# Hence form the scatter plot it can be infered that the height \n",
    "# and weight show positive correlation with each other"
   ]
  }
 ],
 "metadata": {
  "kernelspec": {
   "display_name": "Python 3",
   "language": "python",
   "name": "python3"
  },
  "language_info": {
   "codemirror_mode": {
    "name": "ipython",
    "version": 3
   },
   "file_extension": ".py",
   "mimetype": "text/x-python",
   "name": "python",
   "nbconvert_exporter": "python",
   "pygments_lexer": "ipython3",
   "version": "3.8.3"
  }
 },
 "nbformat": 4,
 "nbformat_minor": 4
}
